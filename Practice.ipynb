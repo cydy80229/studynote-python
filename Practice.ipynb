{
 "cells": [
  {
   "cell_type": "code",
   "execution_count": 2,
   "metadata": {},
   "outputs": [
    {
     "name": "stdout",
     "output_type": "stream",
     "text": [
      "0.30000000000000004\n"
     ]
    }
   ],
   "source": [
    "print(0.1+0.2)"
   ]
  },
  {
   "cell_type": "code",
   "execution_count": 7,
   "metadata": {},
   "outputs": [
    {
     "name": "stdout",
     "output_type": "stream",
     "text": [
      "Happy 3rd Birthday\n",
      "Europe\n",
      "Asia\n",
      "[1, 4, 9, 16]\n"
     ]
    }
   ],
   "source": [
    "#Ch1\n",
    "import random\n",
    "\n",
    "age=random.randint(1,10)\n",
    "message = \"Happy \"+str(age)+\"rd Birthday\"\n",
    "print(message)\n",
    "#Q1\n",
    "land = \"Europe\"\n",
    "print(land)\n",
    "land = \"Asia\"\n",
    "print(land)\n",
    "l=[i**2 for i in range(1,5)]\n",
    "print(l)"
   ]
  },
  {
   "cell_type": "code",
   "execution_count": 23,
   "metadata": {},
   "outputs": [
    {
     "name": "stdout",
     "output_type": "stream",
     "text": [
      "rocket\n",
      "Rocket\n",
      "ROCKET\n",
      "rocket\n",
      "Languages:\n",
      "\tChinese\n",
      "\tEnglish\n",
      "\tJapanese\n",
      "k  Pythonk\n",
      "kPython   k\n",
      "kPythonk\n",
      "  Python   \n",
      "How are you, Jack?\n",
      "How are you, Frank?\n",
      "How are you, Ron?\n",
      "How are you, Sele?\n",
      "How are you, Natalie?\n",
      "Hi,Jack. Would you like to learn some Python today? \n",
      "Hi,Frank. Would you like to learn some Python today? \n",
      "Hi,Ron. Would you like to learn some Python today? \n",
      "Hi,Sele. Would you like to learn some Python today? \n",
      "Hi,Natalie. Would you like to learn some Python today? \n",
      "Hi,Jack. Would you like to learn some Python today? \n",
      "Hi,Frank. Would you like to learn some Python today? \n",
      "Hi,Ron. Would you like to learn some Python today? \n",
      "Hi,Sele. Would you like to learn some Python today? \n",
      "Hi,Natalie. Would you like to learn some Python today? \n"
     ]
    }
   ],
   "source": [
    "#ch2\n",
    "msg=\"rocket\"\n",
    "print(msg)\n",
    "print(msg.title())\n",
    "print(msg.upper())\n",
    "print(msg.lower())\n",
    "print(\"Languages:\\n\\tChinese\\n\\tEnglish\\n\\tJapanese\")\n",
    "favorite_Language = \"  Python   \"\n",
    "print(\"k\"+favorite_Language.rstrip()+\"k\")\n",
    "print(\"k\"+favorite_Language.lstrip()+\"k\")\n",
    "print(\"k\"+favorite_Language.strip()+\"k\")\n",
    "print(favorite_Language)\n",
    "#try import\n",
    "#Q1\n",
    "greeting = \"How are you\"\n",
    "names = [\"Jack\",\"Frank\",\"Ron\",\"Sele\",\"Natalie\"]\n",
    "for i in names:\n",
    "    print(greeting+\", \"+i+\"?\")\n",
    "    \n",
    "#Questions\n",
    "names = [\"Jack\",\"Frank\",\"Ron\",\"Sele\",\"Natalie\"]\n",
    "for name in names:\n",
    "    print(\"Hi,\"+name.title()+ \". Would you like to learn some Python today? \")\n",
    "for name in names:\n",
    "    print(\"Hi,\"+name+ \". Would you like to learn some Python today? \")"
   ]
  },
  {
   "cell_type": "code",
   "execution_count": 49,
   "metadata": {},
   "outputs": [
    {
     "name": "stdout",
     "output_type": "stream",
     "text": [
      "['Trek', 'Cannondale', 'redline', 'Specialized']\n",
      "Trek\n",
      "Cannondale\n",
      "redline\n",
      "Hi!James. my favorite bicycle is Trek\n",
      "Hi!Wilson. my favorite bicycle is Cannondale\n",
      "Hi!Peter. my favorite bicycle is redline\n"
     ]
    }
   ],
   "source": [
    "#ch3\n",
    "bicycles = [\"Trek\", \"Cannondale\",\"redline\",\"Specialized\"]\n",
    "print(bicycles)\n",
    "for i in range(0,3):\n",
    "    print(bicycles[i])\n",
    "names = [\"James\", \"Wilson\", \"Peter\"]\n",
    "\n",
    "for i in range(0,3):\n",
    "    print(\"Hi!\" + names[i] + \". my favorite bicycle is \" + bicycles[i])\n",
    "    \n",
    "#Add or Delete some elements\n",
    "motors = []\n"
   ]
  },
  {
   "cell_type": "code",
   "execution_count": 18,
   "metadata": {},
   "outputs": [
    {
     "name": "stdout",
     "output_type": "stream",
     "text": [
      "[1, 2, 3, 4, 5, 6, 7, 8, 9, 10, 11, 12, 13, 14, 15, 16, 17, 18, 19, 20]\n",
      "500000500000\n",
      "pork\n",
      "chicken\n",
      "beef\n",
      "lamb\n",
      "vaggie\n",
      "[3, 5, 7, 111, 11, 13]\n"
     ]
    }
   ],
   "source": [
    "#ch4\n",
    "#Review\n",
    "numbers=[]\n",
    "for number in range(1,21):\n",
    "    numbers.append(number)\n",
    "print(numbers)\n",
    "\n",
    "listNum=[]\n",
    "for value in range(1,1000001):\n",
    "    listNum.append(value)\n",
    "#print(listNum)\n",
    "print(sum(listNum))\n",
    "#print(listNum[0:1000000:2])\n",
    "meals = [\"pork\",\"chicken\",\"beef\",\"lamb\",\"vaggie\"]\n",
    "for meal in meals:\n",
    "    print(meal)\n",
    "rain = [3,5,7,9,11,13]\n",
    "rain[3]=111\n",
    "print(rain)"
   ]
  },
  {
   "cell_type": "code",
   "execution_count": 134,
   "metadata": {},
   "outputs": [
    {
     "name": "stdout",
     "output_type": "stream",
     "text": [
      "bmw\n",
      "BMW\n",
      "Bmw\n",
      "Correct\n",
      "Buy one!\n",
      "Red ! Player gets 5 points\n",
      "Yellow ! Player gets 10 points\n",
      "Blue ! Player gets 15 points\n"
     ]
    }
   ],
   "source": [
    "#Ch5\n",
    "cars = [\"Audi\",\"Benz\",\"BMW\",\"Lexsus\"]\n",
    "car = \"BMW\"\n",
    "\n",
    "print(car.lower())\n",
    "print(car.upper())\n",
    "print(car.title())\n",
    "if car == \"BMW\":\n",
    "    print(\"Correct\")\n",
    "else:\n",
    "    print(\"Correct it\")\n",
    "my_car = \"Toyot\"\n",
    "if my_car in cars:\n",
    "    print(\"Gotcha!\")\n",
    "else:\n",
    "    print(\"Buy one!\")\n",
    "alien_kill = [\"Red\",\"Yellow\",\"Blue\",\"Gray\"]\n",
    "kill = [\"Yellow\",\"Red\",\"Blue\"]\n",
    "for i in range(0,len(alien_kill)):\n",
    "    if alien_kill[i] in kill:\n",
    "        print(alien_kill[i],\"! Player gets \"+str(5*i+5)+\" points\")\n"
   ]
  },
  {
   "cell_type": "code",
   "execution_count": 51,
   "metadata": {},
   "outputs": [
    {
     "name": "stdout",
     "output_type": "stream",
     "text": [
      "{'Color': 'Black', 'Size': 7}\n",
      "Black\n",
      "7\n",
      "My shoe color is Black\n",
      "{'Color': 'Black', 'Size': 7, 'Brand': 'Nike', 'Model': 'Air MAx'}\n",
      "{'Color': 'Black', 'Size': 7, 'Brand': 'Addidas', 'Model': 'Ultraboost'}\n",
      "\n",
      "\t******************************************************\n",
      "Color \t : \t Black\n",
      "Size \t : \t 7\n",
      "Brand \t : \t Addidas\n",
      "Model \t : \t Ultraboost\n",
      "Hi!, this is my favorite shoe. Some features are given  Color  correspond with  Black\n",
      "Hi!, this is my favorite shoe. Some features are given  Size  correspond with  7\n",
      "Hi!, this is my favorite shoe. Some features are given  Brand  correspond with  Addidas\n",
      "Hi!, this is my favorite shoe. Some features are given  Model  correspond with  Ultraboost\n"
     ]
    }
   ],
   "source": [
    "#ch6\n",
    "shoe= {\"Color\":\"Black\",\"Size\":7}\n",
    "print(shoe)\n",
    "print(shoe[\"Color\"])\n",
    "print(shoe[\"Size\"])\n",
    "color_shoe= shoe[\"Color\"]\n",
    "print(\"My shoe color is \"+str(shoe[\"Color\"]))\n",
    "#Add extra features\n",
    "shoe[\"Brand\"]= \"Nike\"\n",
    "shoe[\"Model\"]= \"Air MAx\"\n",
    "print(shoe)\n",
    "shoe[\"Brand\"]= \"Addidas\"\n",
    "shoe[\"Model\"]= \"Ultraboost\"\n",
    "print(shoe)\n",
    "print(\"\\n\\t******************************************************\")\n",
    "#del shoe[\"Brand\"]\n",
    "#print(shoe)\n",
    "for f,k in shoe.items():\n",
    "    print(f,\"\\t : \\t\",k)\n",
    "    #print(\"\\nBrand:\"+f)\n",
    "    #print(\"Model:\"+k)\n",
    "\n",
    "for name in shoe.keys():\n",
    "    print(\"Hi!, this is my favorite shoe. Some features are given \",name,\" correspond with \",shoe[name])\n",
    "    "
   ]
  },
  {
   "cell_type": "code",
   "execution_count": 14,
   "metadata": {},
   "outputs": [
    {
     "name": "stdout",
     "output_type": "stream",
     "text": [
      "Your ordered a thick-Crust pizza With the following Toppings\n",
      "\tMushrooms\n",
      "\tExtra Cheese\n",
      "\n",
      "Jen'S favorite Languages are:\n",
      "\tPython\n",
      "\tC++\n",
      "\n",
      "Sarah'S favorite Languages are:\n",
      "\tC++\n",
      "\n",
      "Edward'S favorite Languages are:\n",
      "\tJava\n",
      "\tHtml\n",
      "\n",
      "Phil'S favorite Languages are:\n",
      "\tPython\n",
      "\tPh\n",
      "\n",
      "First Name: Justin##\n",
      "Justin\tTimberlake\n",
      "\n",
      "First Name: Wells##\n",
      "Wells\tSmith\n"
     ]
    }
   ],
   "source": [
    "pizza = {'Crust':'thick','Toppings':['Mushrooms','Extra Cheese']}\n",
    "print(\"Your ordered a \"+pizza['Crust']+\"-Crust pizza \"+\"With the following Toppings\")\n",
    "for topping in pizza[\"Toppings\"]:\n",
    "    print(\"\\t\" + topping)\\\n",
    "\n",
    "favorite_languages = {\n",
    "        'Jen':['Python','C++'],\n",
    "        \"Sarah\":['C++'],\n",
    "        \"Edward\":[\"Java\",\"HTML\"],\n",
    "        \"Phil\":['Python','PH']\n",
    "        }\n",
    "for name, languages in favorite_languages.items():\n",
    "    print(\"\\n\"+name.title()+\"'S favorite Languages are:\")\n",
    "    for language in languages:\n",
    "        print(\"\\t\"+language.title())\n",
    "\n",
    "####Important!!!!!        \n",
    "users = {\"Justin##\":{\"First\":\"Justin\",\"Last\":\"Timberlake\"},\"Wells##\":{\"First\":\"Wells\",\"Last\":\"Smith\"}}\n",
    "for username, userinfo in users.items():\n",
    "    print(\"\\nFirst Name: \"+username)\n",
    "    full_name=userinfo[\"First\"]+\"\\t\"+userinfo[\"Last\"]\n",
    "    print(full_name)\n",
    "##Questions\n"
   ]
  },
  {
   "cell_type": "code",
   "execution_count": 43,
   "metadata": {},
   "outputs": [
    {
     "name": "stdout",
     "output_type": "stream",
     "text": [
      "1 2\n",
      "Give me a number: \n",
      "32\n",
      "\n",
      " The number 32 is even. \n"
     ]
    }
   ],
   "source": [
    "## Ch7\n",
    "#message=input(\"Tell me the ans: \")\n",
    "#print(message)\n",
    "#nameU = input(\"Let me know your name,plz. \\n\")\n",
    "#print(\"How are you today,\"+str(nameU)+\"?\")\n",
    "\n",
    "prompt = \"If you tell me about your name, we can personalize the message for you.\"\n",
    "prompt += \"\\nWhat is your first name \"\n",
    "\n",
    "#name = input(prompt)\n",
    "#print(\"\\nHello, \"+ name + \"!\")\n",
    "\n",
    "#age = input(\"How old are you?\\n\")\n",
    "#print(\"How old are you?\\n\"+ str(int(age)))\n",
    "print(4%3,5%3)\n",
    "number = input(\"Give me a number: \\n\")\n",
    "number = int(number)\n",
    "if number % 2 == 0:\n",
    "    print(\"\\n The number \"+ str(number)+\" is even. \")\n",
    "else:\n",
    "    print(\"\\n The number \"+ str(number)+\" is odd.  \")"
   ]
  },
  {
   "cell_type": "code",
   "execution_count": 58,
   "metadata": {},
   "outputs": [
    {
     "name": "stdout",
     "output_type": "stream",
     "text": [
      "Guess:12\n",
      "Greater \n",
      "Guess:31\n",
      "Greater \n",
      "Guess:107\n",
      "Smaller\n",
      "Guess:50\n",
      "Greater \n",
      "Guess:32\n",
      "Greater \n",
      "Guess:12\n",
      "Greater \n",
      "Guess:80\n",
      "Smaller\n",
      "Guess:66\n",
      "Greater \n",
      "Guess:70\n",
      "Greater \n",
      "Guess:75\n",
      "Smaller\n",
      "Guess:72\n",
      "Smaller\n",
      "Guess:71\n",
      "You got it!\n"
     ]
    }
   ],
   "source": [
    "import random\n",
    "i= random.randint(0,101)\n",
    "#print(str(i))\n",
    "while True:\n",
    "    key=input(\"Guess:\")\n",
    "    key=int(key)\n",
    "    if i > key:\n",
    "        print(\"Greater \")\n",
    "    elif i < key:\n",
    "        print(\"Smaller\")\n",
    "    else:\n",
    "        print(\"You got it!\")\n",
    "        break"
   ]
  },
  {
   "cell_type": "code",
   "execution_count": 6,
   "metadata": {},
   "outputs": [
    {
     "name": "stdout",
     "output_type": "stream",
     "text": [
      "1\n",
      "1\n",
      "1\n",
      "1\n",
      "['Michael', 'Lebron', 'Jimmy', 'Lebron']\n",
      "Removed\n",
      "Removed\n",
      "['Michael', 'Jimmy']\n"
     ]
    }
   ],
   "source": [
    "pilots=[\"Michael\",\"Lebron\",\"Jimmy\",\"Lebron\"]\n",
    "for i in range(0,len(pilots)):\n",
    "    print(\"1\")\n",
    "    #print(pilots.pop())\n",
    "print(pilots)\n",
    "while \"Lebron\" in pilots:\n",
    "    pilots.remove(\"Lebron\")\n",
    "    print(\"Removed\")\n",
    "print(pilots)"
   ]
  },
  {
   "cell_type": "code",
   "execution_count": 13,
   "metadata": {},
   "outputs": [
    {
     "name": "stdout",
     "output_type": "stream",
     "text": [
      "Beef\n",
      "Pork\n",
      "Cuba\n",
      "Salmon\n",
      "Tuna\n",
      "[]\n",
      "['Beef', 'Pork', 'Cuba', 'Salmon', 'Tuna']\n",
      "\n",
      "what is your name? Jack\n",
      "Which mountain would you like to climb someday? Ali\n",
      "Would you like to let another person respond? no\n",
      "\n",
      "------Poll Results-----------\n",
      "{'Jack': 'Ali'}\n",
      "Jackwould like to climb Ali.\n"
     ]
    }
   ],
   "source": [
    "#Q CH7\n",
    "sandwich_orders = [\"Tuna\",\"Salmon\",\"Cuba\",\"Pork\",\"Beef\"]\n",
    "finished_sandwich = []\n",
    "for sandwich in range(0,len(sandwich_orders)):\n",
    "    s=sandwich_orders.pop()\n",
    "    print(s)\n",
    "    finished_sandwich.append(s)\n",
    "print(sandwich_orders)\n",
    "print(finished_sandwich)\n",
    "#########################################################################\n",
    "responses={}\n",
    "polling_active = True\n",
    "\n",
    "while polling_active:\n",
    "    name = input(\"\\nwhat is your name? \")\n",
    "    response = input(\"Which mountain would you like to climb someday? \")\n",
    "    responses[name] = response\n",
    "\n",
    "    repeat = input(\"Would you like to let another person respond? \")\n",
    "    if repeat == \"no\":\n",
    "        polling_active = False\n",
    "print(\"\\n------Poll Results-----------\")\n",
    "print(responses)\n",
    "for name,response in responses.items():\n",
    "    print(name + \"would like to climb \" + response+ \".\")"
   ]
  },
  {
   "cell_type": "code",
   "execution_count": 49,
   "metadata": {},
   "outputs": [
    {
     "name": "stdout",
     "output_type": "stream",
     "text": [
      "Hello\n",
      "I have aRabbit and it's name is Jacky\n",
      "I have aBunny and it's name is Rodney\n",
      "Natalie  You-shan  Wu\n",
      "My first name is Jay\n",
      "My last name is Chou\n",
      "{'first name': 'Jay', 'last name': 'Chou'}\n",
      "Damain Lillard\n",
      "Jimmy Bulter\n",
      "Anthony Davis\n",
      "Lebron James\n",
      "[]\n",
      "[]\n",
      "['Damain Lillard', 'Jimmy Bulter', 'Anthony Davis', 'Lebron James']\n",
      "('Taco', 'pepperoni', 'Hawa')\n",
      "Use of *stars\n",
      "Here's your 16inch pizza. \n",
      "\t -Taco\n",
      "\t -Hawa\n"
     ]
    }
   ],
   "source": [
    "#ch8\n",
    "def Greetings():\n",
    "    print(\"Hello\")\n",
    "Greetings()\n",
    "def animal(animal_type,name=\"Rodney\"):\n",
    "    print(\"I have a\"+animal_type+\" and it's name is \"+name)\n",
    "animal(\"Rabbit\",\"Jacky\")\n",
    "animal(\"Bunny\")\n",
    "def full_name(first_name,middle_name,last_name):\n",
    "    print(first_name+\"  \"+middle_name+\"  \"+last_name)\n",
    "full_name(\"Natalie\",\"You-shan\",\"Wu\")\n",
    "\n",
    "###back to dic\n",
    "def build_person(first_name,last_name):\n",
    "    person={\"first name\":first_name,\"last name\":last_name}\n",
    "    for title,name in person.items():\n",
    "        print(\"My \"+title+\" is \"+name)#key & value\n",
    "    return person\n",
    "singer =build_person(\"Jay\",\"Chou\")\n",
    "print(singer)\n",
    "\n",
    "undrafted=[\"Lebron James\",\"Anthony Davis\",\"Jimmy Bulter\",\"Damain Lillard\"]\n",
    "drafted=[]\n",
    "\n",
    "while undrafted:\n",
    "    player=undrafted.pop()\n",
    "    print(player)\n",
    "    drafted.append(player)\n",
    "print(undrafted)\n",
    "print(undrafted[:])\n",
    "print(drafted)\n",
    "def pizza(*toppings):\n",
    "    print(toppings)\n",
    "pizza(\"Taco\",\"pepperoni\",\"Hawa\")\n",
    "#####################################\n",
    "print(\"Use of *stars\")\n",
    "def make_pizza(size,*toppings):\n",
    "    print(\"Here's your \"+str(size)+\"inch pizza. \")\n",
    "    for topping in toppings:\n",
    "        print(\"\\t -\"+topping)\n",
    "make_pizza(16,\"Taco\",\"Hawa\")"
   ]
  },
  {
   "cell_type": "code",
   "execution_count": 59,
   "metadata": {},
   "outputs": [
    {
     "name": "stdout",
     "output_type": "stream",
     "text": [
      "{'first_name': 'Lebron', 'last_name': 'James', 'location': 'LA', 'filed': 'basketball'}\n",
      "LA\n"
     ]
    }
   ],
   "source": [
    "def profile_build(first,last,**user_info):\n",
    "    profile={}\n",
    "    profile[\"first_name\"] = first\n",
    "    profile[\"last_name\"]= last\n",
    "    for key,value in user_info.items():\n",
    "        profile[key]=value\n",
    "    return profile\n",
    "user_profile = profile_build('Lebron','James',location=\"LA\",filed=\"basketball\")\n",
    "print(user_profile)\n",
    "print(user_profile['location'])"
   ]
  },
  {
   "cell_type": "code",
   "execution_count": 24,
   "metadata": {},
   "outputs": [
    {
     "name": "stdout",
     "output_type": "stream",
     "text": [
      "My dog's name is Rocky.\n",
      "My dog is 6 year old.\n",
      "Rocky now is sitting\n",
      "Rocky rolled over!\n",
      "\n",
      "Your dog's name is Lulu.\n",
      "Your dog is 2 year old.\n",
      "Lulu now is sitting\n",
      "Lulu rolled over!\n"
     ]
    }
   ],
   "source": [
    "#ch9 Class\n",
    "class Dog():\n",
    "    def __init__(self, name, age):\n",
    "        self.name = name\n",
    "        self.age = age\n",
    "    def sit(self):\n",
    "        print(self.name.title()+\" now is sitting\")\n",
    "    def roll_over(self):\n",
    "        print(self.name.title()+\" rolled over!\")\n",
    "my_dog=Dog(\"Rocky\",6)\n",
    "print(\"My dog's name is \"+my_dog.name.title()+\".\")\n",
    "print(\"My dog is \"+str(my_dog.age)+\" year old.\")\n",
    "my_dog.sit()\n",
    "my_dog.roll_over()\n",
    "print(\"\")\n",
    "your_dog=Dog(\"Lulu\",2)\n",
    "print(\"Your dog's name is \"+your_dog.name.title()+\".\")\n",
    "print(\"Your dog is \"+str(your_dog.age)+\" year old.\")\n",
    "your_dog.sit()\n",
    "your_dog.roll_over()"
   ]
  },
  {
   "cell_type": "code",
   "execution_count": 38,
   "metadata": {},
   "outputs": [
    {
     "name": "stdout",
     "output_type": "stream",
     "text": [
      "This is Mr.Wu, and I just have my restaurantFrank'sOpened. It's a(an) Asian Cusinesrestaurant\n",
      "The name of our restaurant is Frank'SThe type of food we serve Asian Cusines\n",
      "The new restaurant,Frank'S, has just opened\n",
      "This is Mrs.Wu, and I just have my restaurantSelene'sOpened. It's a(an) Mexican Cusinesrestaurant\n",
      "The name of our restaurant is Selene'SThe type of food we serve Mexican Cusines\n",
      "The new restaurant,Selene'S, has just opened\n"
     ]
    }
   ],
   "source": [
    "    #9-1 Restaurant\n",
    "    class Restaurant():\n",
    "        def __init__(self,name,food_type):\n",
    "            self.name=name\n",
    "            self.food_type=food_type\n",
    "        def describe_restaurant(self):\n",
    "            print(\"The name of our restaurant is \"+self.name.title()+ \"The type of food we serve \"+self.food_type.title())\n",
    "        def open_restaurant(self):\n",
    "            print(\"The new restaurant,\"+self.name.title()+\", has just opened\")\n",
    "    first = Restaurant(\"Frank's\",\"Asian Cusines\")\n",
    "    print(\"This is Mr.Wu, and I just have my restaurant\"+first.name+\"Opened. It's a(an) \"+first.food_type+\"restaurant\")\n",
    "    first.describe_restaurant()\n",
    "    first.open_restaurant()\n",
    "\n",
    "    second = Restaurant(\"Selene's\",\"Mexican Cusines\")\n",
    "    print(\"This is Mrs.Wu, and I just have my restaurant\"+second.name+\"Opened. It's a(an) \"+second.food_type+\"restaurant\")\n",
    "    second.describe_restaurant()\n",
    "    second.open_restaurant()"
   ]
  },
  {
   "cell_type": "code",
   "execution_count": 88,
   "metadata": {
    "scrolled": true
   },
   "outputs": [
    {
     "name": "stdout",
     "output_type": "stream",
     "text": [
      "Toyota Rav4 2021\n",
      "Method 1\n",
      "This is a brand-new car with 0 on it.\n",
      "The mileage for this car is 23. \n",
      "\n",
      "Method 2\n",
      "The mileage for this car is 39. \n",
      "Error! The correct mileage is32\n",
      "The mileage for this car is 39. \n",
      "\n",
      "Method 3\n",
      "The mileage for this car is 62. \n",
      "\n",
      "The mileage for this car is 97. \n"
     ]
    }
   ],
   "source": [
    "class Car():\n",
    "    def __init__(self,make,model,year):\n",
    "        self.make = make\n",
    "        self.model = model\n",
    "        self.year = year\n",
    "        self.odometer_reading = 0\n",
    "    def complete_info(self):\n",
    "        all_info=self.make+\" \"+self.model+\" \"+str(self.year)\n",
    "        return all_info\n",
    "    def odometer(self):\n",
    "        self.odometer_reading\n",
    "        if self.odometer_reading==0:\n",
    "            print(\"This is a brand-new car with \"+str(self.odometer_reading)+\" on it.\")\n",
    "        else:\n",
    "            print(\"The mileage for this car is \"+str(self.odometer_reading)+\". \")\n",
    "    def update_odom(self,mileage):\n",
    "        if mileage >= self.odometer_reading:\n",
    "            self.odometer_reading = mileage\n",
    "        else:\n",
    "            print(\"Error! The correct mileage is\"+str(mileage))\n",
    "    def increase_odom(self,mileage):\n",
    "        self.odometer_reading += mileage\n",
    "new_car=Car(\"Toyota\",\"Rav4\",2021)\n",
    "print(new_car.complete_info())\n",
    "#Three ways of changing the amount\n",
    "#1st\n",
    "print(\"Method 1\")\n",
    "new_car.odometer()\n",
    "new_car.odometer_reading= 23\n",
    "new_car.odometer()\n",
    "print(\"\")\n",
    "#2nd\n",
    "print(\"Method 2\")\n",
    "new_car.update_odom(39)\n",
    "new_car.odometer()\n",
    "new_car.update_odom(32)\n",
    "new_car.odometer()\n",
    "print(\"\")\n",
    "#3rd\n",
    "print(\"Method 3\")\n",
    "new_car.increase_odom(23)\n",
    "new_car.odometer()\n",
    "print(\"\")\n",
    "new_car.increase_odom(35)\n",
    "new_car.odometer()\n",
    "#new_car.odometer(0)\n",
    "#new_car.read_odometer()\n",
    "#print(\"This is a brand-new car with \"+str(mileage)+\" on it.\")"
   ]
  },
  {
   "cell_type": "code",
   "execution_count": 111,
   "metadata": {},
   "outputs": [
    {
     "name": "stdout",
     "output_type": "stream",
     "text": [
      "This is a 2020 Tesla Model 3 . \n",
      "This car has a 70kwh battery\n",
      "This car can go approximately 240 miles on a full charge\n"
     ]
    }
   ],
   "source": [
    "class Uber():\n",
    "    def __init__(self,make,model,year):\n",
    "        self.make=make\n",
    "        self.model=model\n",
    "        self.year=year\n",
    "    def general_info(self):\n",
    "        print(\"This is a \"+str(self.year)+\" \"+self.make+\" \"+self.model+\" . \")\n",
    "\n",
    "class Battery():\n",
    "    def __init__(self,size=70):\n",
    "        self.size=size\n",
    "    def describe_battery(self):\n",
    "        print(\"This car has a \"+str(self.size)+\"kwh battery\")\n",
    "    def get_range(self):\n",
    "        if self.size==70:\n",
    "            range=240\n",
    "        elif self.size== 85:\n",
    "            range=270\n",
    "        message = \"This car can go approximately \"+str(range)\n",
    "        message += \" miles on a full charge\"\n",
    "        print(message)\n",
    "class ElectricCar(Uber):\n",
    "    def __init__(self,make,model,year):\n",
    "        super().__init__(make,model,year)\n",
    "        self.battery = Battery()\n",
    "my_tesla = ElectricCar(\"Tesla\",\"Model 3\",2020)\n",
    "my_tesla.general_info()\n",
    "my_tesla.battery.describe_battery()\n",
    "my_tesla.battery.get_range()"
   ]
  },
  {
   "cell_type": "code",
   "execution_count": null,
   "metadata": {},
   "outputs": [],
   "source": [
    "#from car import Uber,Battery"
   ]
  },
  {
   "cell_type": "code",
   "execution_count": 38,
   "metadata": {},
   "outputs": [
    {
     "name": "stdout",
     "output_type": "stream",
     "text": [
      "1\n",
      "2\n",
      "3\n",
      "4\n",
      "5\n",
      "6\n",
      "7\n",
      "8\n",
      "9\n",
      "10\n",
      "11.12212212345489645312676213212334\n",
      "1\n",
      "2\n",
      "3\n",
      "4\n",
      "5\n",
      "6\n",
      "7\n",
      "8\n",
      "9\n",
      "10\n",
      "11.12212212345489645312676213212334\n",
      "\n",
      "This is the original format of lines :\n",
      "['1\\n', '2\\n', '3\\n', '4\\n', '5\\n', '6\\n', '7\\n', '8\\n', '9\\n', '10\\n', '11.12212212345489645312676213212334']\n",
      "1234567891011.12212212345489645312676213212334\n",
      "What date is your birthday? 121\n",
      "Sorry\n",
      "length  46\n",
      "\n",
      "66.1221221234549\n"
     ]
    }
   ],
   "source": [
    "# ch10\n",
    "with open(\"rod.txt\") as file_object:\n",
    "    content = file_object.read()\n",
    "    print(content)\n",
    "### Read\n",
    "filename=\"rod.txt\"\n",
    "with open(filename) as file_object:\n",
    "    lines = file_object.readlines()\n",
    "for line in lines:\n",
    "    print(line.strip())\n",
    "print(\"\")\n",
    "pi_string=\"\"\n",
    "print(\"This is the original format of lines :\")\n",
    "print(lines)\n",
    "for line in lines:\n",
    "    pi_string+=line.rstrip()\n",
    "print(pi_string)\n",
    "birthday=input(\"What date is your birthday? \")\n",
    "if birthday in pi_string:\n",
    "    print(\"Congrats!\")\n",
    "else:\n",
    "    print(\"Sorry\")\n",
    "print(\"length \",len(pi_string))\n",
    "print()\n",
    "number=0\n",
    "for line in lines:\n",
    "    number+=float(line)\n",
    "\n",
    "print(number)\n",
    "\n",
    "##Write\n",
    "filename=\"trail.txt\"\n",
    "with open(filename,\"w\") as trail:\n",
    "    trail.write(\"\\nI love Python\\n\")\n",
    "    trail.write(\"I love Selene\")\n",
    "with open(filename,\"a\") as trail:\n",
    "    trail.write(\"I love Natalie\\n\")\n",
    "    trail.write(\"I love Mom & Dad\")"
   ]
  },
  {
   "cell_type": "code",
   "execution_count": 23,
   "metadata": {},
   "outputs": [
    {
     "name": "stdout",
     "output_type": "stream",
     "text": [
      "3.141592653589793\n"
     ]
    }
   ],
   "source": [
    "import math\n",
    "print(math.pi)\n"
   ]
  },
  {
   "cell_type": "code",
   "execution_count": 43,
   "metadata": {},
   "outputs": [],
   "source": [
    "filename=\"trail.txt\"\n",
    "with open(filename,\"w\") as trail:\n",
    "    trail.write(\"I love Python\\n\")\n",
    "    trail.write(\"I love Selene\")\n",
    "with open(filename,\"a\") as trail:#add\n",
    "    trail.write(\"\\nI love Natalie\\n\")\n",
    "    trail.write(\"I love Mom & Dad\")"
   ]
  },
  {
   "cell_type": "code",
   "execution_count": 67,
   "metadata": {},
   "outputs": [
    {
     "name": "stdout",
     "output_type": "stream",
     "text": [
      "Give me two numbers, and I will divide them.\n",
      "Enter 'q' to quit\n",
      "\n",
      " first number: 3\n",
      "\n",
      " second number: 0\n",
      "\n",
      " first number: 4\n",
      "\n",
      " second number: 1\n",
      "4.0\n",
      "\n",
      " first number: 12\n",
      "\n",
      " second number: q\n"
     ]
    }
   ],
   "source": [
    "print(\"Give me two numbers, and I will divide them.\")\n",
    "print(\"Enter 'q' to quit\")\n",
    "\n",
    "while True:\n",
    "    first_number = input(\"\\n first number: \")\n",
    "    if first_number == 'q':\n",
    "        break\n",
    "    second_number = input(\"\\n second number: \")\n",
    "    if second_number == 'q':\n",
    "        break\n",
    "    try:\n",
    "        answer = int(first_number)/int(second_number)\n",
    "    except:\n",
    "        pass\n",
    "    else:\n",
    "        print(answer)"
   ]
  },
  {
   "cell_type": "code",
   "execution_count": 55,
   "metadata": {},
   "outputs": [
    {
     "name": "stdout",
     "output_type": "stream",
     "text": [
      "Give me two integers, and I will divide them.\n",
      "Enter 'q' to quit\n",
      "\n",
      " first number: 3.1\n",
      "\n",
      " second number: 1.3\n",
      "3.0\n",
      "\n",
      " first number: 123\n",
      "\n",
      " second number: 41\n",
      "3.0\n",
      "\n",
      " first number: q\n"
     ]
    }
   ],
   "source": [
    "#try-except \n",
    "print(\"Give me two integers, and I will divide them.\")\n",
    "print(\"Enter 'q' to quit\")\n",
    "\n",
    "while True:\n",
    "    first_number = input(\"\\n first number: \")\n",
    "    if first_number == 'q':\n",
    "        break\n",
    "    second_number = input(\"\\n second number: \")\n",
    "    if second_number == 'q':\n",
    "        break\n",
    "    try:\n",
    "        answer = int(float(first_number))/int(float(second_number))\n",
    "    except ZeroDivisionError:\n",
    "        print(\"You cannot divide by 0!\")\n",
    "    else:\n",
    "        print(answer)"
   ]
  },
  {
   "cell_type": "code",
   "execution_count": 72,
   "metadata": {},
   "outputs": [
    {
     "name": "stdout",
     "output_type": "stream",
     "text": [
      "['Alex', 'rander', 'World']\n",
      "I love Python\n",
      "I love Selene\n",
      "I love Natalie\n",
      "I love Mom & Dad <class 'str'>\n",
      "I\n",
      "love\n",
      "Python\n",
      "I\n",
      "love\n",
      "Selene\n",
      "I\n",
      "love\n",
      "Natalie\n",
      "I\n",
      "love\n",
      "Mom\n",
      "&\n",
      "Dad\n",
      "It has 14 words. \n"
     ]
    }
   ],
   "source": [
    "# title=\"Alex rander World\"\n",
    "print(title.split())\n",
    "filename = \"trail.txt\"\n",
    "try:\n",
    "    with open(filename) as f_obj:\n",
    "        content = f_obj.read()\n",
    "except FileNotFoundError:\n",
    "    msg = \"This file does not exist\"\n",
    "    print(msg)\n",
    "else:\n",
    "    print(content,type(content))\n",
    "    contents = content.split()\n",
    "    for line in contents:\n",
    "        print(line)\n",
    "    words = content.split()\n",
    "    num_words = len(words)\n",
    "    print(\"It has \"+ str(num_words)+\" words. \")"
   ]
  },
  {
   "cell_type": "code",
   "execution_count": 17,
   "metadata": {},
   "outputs": [],
   "source": [
    "import json\n",
    "numbers=[2,3,5,7,11,13]\n",
    "filename =\"numbers.json\"\n",
    "with open(filename,\"w\")as f_obj:\n",
    "    json.dump(numbers,f_obj)\n",
    "    "
   ]
  },
  {
   "cell_type": "code",
   "execution_count": 16,
   "metadata": {},
   "outputs": [
    {
     "name": "stdout",
     "output_type": "stream",
     "text": [
      "[2, 3, 5, 7, 11, 13]\n"
     ]
    }
   ],
   "source": [
    "import json\n",
    "filename =\"numbers.json\"\n",
    "with open(filename)as f_obj:\n",
    "    numbers = json.load(f_obj)\n",
    "\n",
    "print(numbers)  "
   ]
  },
  {
   "cell_type": "code",
   "execution_count": 59,
   "metadata": {},
   "outputs": [
    {
     "name": "stdout",
     "output_type": "stream",
     "text": [
      "What is your name? Frank\n",
      "We will save your name when you come back ,Frank .\n"
     ]
    }
   ],
   "source": [
    "import json\n",
    "username = input(\"What is your name? \")\n",
    "filename = \"username.json\"\n",
    "with open(filename, 'w') as f_obj:\n",
    "    json.dump(username, f_obj)\n",
    "    print(\"We will save your name when you come back ,\"+username+\" .\")"
   ]
  },
  {
   "cell_type": "code",
   "execution_count": 61,
   "metadata": {},
   "outputs": [
    {
     "name": "stdout",
     "output_type": "stream",
     "text": [
      "Welcome back Frank !\n"
     ]
    }
   ],
   "source": [
    "import json\n",
    "def get_stored_username():\n",
    "    filename = \"username.json\"\n",
    "    try:\n",
    "        with open(filename) as f_obj:\n",
    "            username = json.load(f_obj)\n",
    "#print(\"We will save your name when you come back ,\"+username+\" .\")\n",
    "    except FileNotFoundError:\n",
    "        return None\n",
    "    else:\n",
    "        return username\n",
    "def greeting():\n",
    "    \n",
    "        username = get_stored_username()\n",
    "        if username:\n",
    "            print(\"Welcome back \"+str(username)+\" !\")\n",
    "        else:\n",
    "            username = input(\"What is your name? \")\n",
    "            filename = \"Username.json\"\n",
    "            with open(filename,\"w\") as f_obj:\n",
    "                json.dump(username, f_obj)\n",
    "                print(\"We will remember you for your next visit \"+username+\" !\")\n",
    "greeting()"
   ]
  },
  {
   "cell_type": "code",
   "execution_count": 67,
   "metadata": {},
   "outputs": [
    {
     "name": "stdout",
     "output_type": "stream",
     "text": [
      "Welcome back, Jackson! \n"
     ]
    }
   ],
   "source": [
    "import json\n",
    "def get_stored_username():\n",
    "    filename=\"username.json\"\n",
    "    try:\n",
    "        with open(filename) as f_obj:\n",
    "            username = json.load(f_obj)\n",
    "    except FileNotFoundError:\n",
    "        return None\n",
    "    else:\n",
    "        return username\n",
    "def get_new_username():\n",
    "    username = input(\"What is your name? \")\n",
    "    filename = \"username.json\"\n",
    "    with open(filename, \"w\") as f_obj:\n",
    "        json.dump(username, f_obj)\n",
    "    return username\n",
    "def greet_user():\n",
    "    username = get_stored_username()\n",
    "    if username:\n",
    "        print(\"Welcome back, \" + username +\"! \")\n",
    "    else:\n",
    "        username = get_new_username()\n",
    "        print(\"We will remember you when you come back, \"+username+\" !\")\n",
    "greet_user()"
   ]
  },
  {
   "cell_type": "code",
   "execution_count": null,
   "metadata": {},
   "outputs": [],
   "source": [
    "#ch11\n"
   ]
  },
  {
   "cell_type": "code",
   "execution_count": 4,
   "metadata": {},
   "outputs": [
    {
     "name": "stdout",
     "output_type": "stream",
     "text": [
      "Collecting pygame\n",
      "  Downloading pygame-2.0.1-cp38-cp38-win_amd64.whl (5.2 MB)\n",
      "Installing collected packages: pygame\n",
      "Successfully installed pygame-2.0.1\n"
     ]
    }
   ],
   "source": [
    "#CH12\n",
    "!pip install pygamex`"
   ]
  },
  {
   "cell_type": "code",
   "execution_count": 1,
   "metadata": {},
   "outputs": [
    {
     "name": "stdout",
     "output_type": "stream",
     "text": [
      "pygame 2.0.1 (SDL 2.0.14, Python 3.8.5)\n",
      "Hello from the pygame community. https://www.pygame.org/contribute.html\n"
     ]
    },
    {
     "ename": "SystemExit",
     "evalue": "",
     "output_type": "error",
     "traceback": [
      "An exception has occurred, use %tb to see the full traceback.\n",
      "\u001b[1;31mSystemExit\u001b[0m\n"
     ]
    },
    {
     "name": "stderr",
     "output_type": "stream",
     "text": [
      "C:\\Users\\cydy8\\anaconda3\\lib\\site-packages\\IPython\\core\\interactiveshell.py:3426: UserWarning: To exit: use 'exit', 'quit', or Ctrl-D.\n",
      "  warn(\"To exit: use 'exit', 'quit', or Ctrl-D.\", stacklevel=1)\n"
     ]
    }
   ],
   "source": [
    "import sys\n",
    "import pygame\n",
    "\n",
    "def run_game():\n",
    "    \n",
    "    bg_color = (150,130,0)\n",
    "    pygame.init()\n",
    "    screen = pygame.display.set_mode((1200,800))\n",
    "    pygame.display.set_caption(\"Allen Iverson\")\n",
    "    \n",
    "    while True:\n",
    "        \n",
    "        for event in pygame.event.get():\n",
    "            if event.type == pygame.QUIT:\n",
    "                sys.exit()\n",
    "        screen.fill(bg_color)        \n",
    "        pygame.display.flip()\n",
    "\n",
    "\n",
    "run_game()"
   ]
  }
 ],
 "metadata": {
  "kernelspec": {
   "display_name": "Python 3",
   "language": "python",
   "name": "python3"
  },
  "language_info": {
   "codemirror_mode": {
    "name": "ipython",
    "version": 3
   },
   "file_extension": ".py",
   "mimetype": "text/x-python",
   "name": "python",
   "nbconvert_exporter": "python",
   "pygments_lexer": "ipython3",
   "version": "3.8.5"
  }
 },
 "nbformat": 4,
 "nbformat_minor": 4
}
